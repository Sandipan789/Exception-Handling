{
 "cells": [
  {
   "cell_type": "markdown",
   "metadata": {},
   "source": [
    "# 1.Try Catch Exception"
   ]
  },
  {
   "cell_type": "code",
   "execution_count": 7,
   "metadata": {},
   "outputs": [
    {
     "name": "stdout",
     "output_type": "stream",
     "text": [
      "Enter a number:- hgjhjhl\n",
      "invalid literal for int() with base 10: 'hgjhjhl'\n"
     ]
    }
   ],
   "source": [
    "try:\n",
    "    a=int(input(\"Enter a number:- \"))\n",
    "    val=5/a\n",
    "except(ValueError,OSError,IOError,ZeroDivisionError,Exception) as e:\n",
    "    print(e)\n",
    "else:\n",
    "    print(f\"The value is {val}\")"
   ]
  },
  {
   "cell_type": "markdown",
   "metadata": {},
   "source": [
    "# 2. Generate all possible Sentences"
   ]
  },
  {
   "cell_type": "code",
   "execution_count": 10,
   "metadata": {},
   "outputs": [
    {
     "name": "stdout",
     "output_type": "stream",
     "text": [
      "Enter the number of subjects:- 2\n",
      "Enter the number of verbs:- 2\n",
      "Enter the number of objects:- 2\n",
      "Enter name of subjects:- Americans\n",
      "Enter name of subjects:- Indians\n",
      "Enter name of verbs:- play\n",
      "Enter name of verbs:- watch\n",
      "Enter name of objects:- BaseBall\n",
      "Enter name of objects:- Cricket\n",
      "\n",
      "Americans play BaseBall\n",
      "Americans play Cricket\n",
      "Americans watch BaseBall\n",
      "Americans watch Cricket\n",
      "Indians play BaseBall\n",
      "Indians play Cricket\n",
      "Indians watch BaseBall\n",
      "Indians watch Cricket\n"
     ]
    }
   ],
   "source": [
    "a=int(input(\"Enter the number of subjects:- \"))\n",
    "b=int(input(\"Enter the number of verbs:- \"))\n",
    "c=int(input(\"Enter the number of objects:- \"))\n",
    "\n",
    "#Appending the subjects\n",
    "subjects=[]\n",
    "for i in range(a):\n",
    "    st=input(\"Enter name of subjects:- \")\n",
    "    subjects.append(st)\n",
    "    \n",
    "#Appending the verbs\n",
    "verbs=[]\n",
    "for i in range(a):\n",
    "    st=input(\"Enter name of verbs:- \")\n",
    "    verbs.append(st)\n",
    "    \n",
    "#Appending the objects\n",
    "objects=[]\n",
    "for i in range(a):\n",
    "    st=input(\"Enter name of objects:- \")\n",
    "    objects.append(st)\n",
    "\n",
    "print()\n",
    "for i in subjects:\n",
    "    for j in verbs:\n",
    "        for k in objects:\n",
    "            print(i+' '+j+' '+k)"
   ]
  },
  {
   "cell_type": "code",
   "execution_count": null,
   "metadata": {},
   "outputs": [],
   "source": []
  }
 ],
 "metadata": {
  "kernelspec": {
   "display_name": "Python 3",
   "language": "python",
   "name": "python3"
  },
  "language_info": {
   "codemirror_mode": {
    "name": "ipython",
    "version": 3
   },
   "file_extension": ".py",
   "mimetype": "text/x-python",
   "name": "python",
   "nbconvert_exporter": "python",
   "pygments_lexer": "ipython3",
   "version": "3.8.5"
  }
 },
 "nbformat": 4,
 "nbformat_minor": 4
}
